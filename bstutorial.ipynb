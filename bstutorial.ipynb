{
 "cells": [
  {
   "cell_type": "code",
   "execution_count": 2,
   "id": "e828c2da",
   "metadata": {},
   "outputs": [],
   "source": [
    "from bs4 import BeautifulSoup"
   ]
  },
  {
   "cell_type": "code",
   "execution_count": 3,
   "id": "59a2d1c3",
   "metadata": {},
   "outputs": [],
   "source": [
    "with open(\"index.html\", 'r') as file:\n",
    "    doc = BeautifulSoup(file, \"html.parser\")"
   ]
  },
  {
   "cell_type": "code",
   "execution_count": 7,
   "id": "d82d9264",
   "metadata": {},
   "outputs": [
    {
     "name": "stdout",
     "output_type": "stream",
     "text": [
      "<html>\n",
      " <head>\n",
      "  <title>\n",
      "   Your Title Here\n",
      "  </title>\n",
      " </head>\n",
      " <body bgcolor=\"FFFFFF\">\n",
      "  <center>\n",
      "   <img align=\"BOTTOM\" src=\"clouds.jpg\"/>\n",
      "  </center>\n",
      "  <hr/>\n",
      "  <a href=\"http://somegreatsite.com\">\n",
      "   Link Name\n",
      "  </a>\n",
      "  is a link to another nifty site\n",
      "  <h1>\n",
      "   This is a Header\n",
      "  </h1>\n",
      "  <h2>\n",
      "   This is a Medium Header\n",
      "  </h2>\n",
      "  Send me mail at\n",
      "  <a href=\"mailto:support@yourcompany.com\">\n",
      "   support@yourcompany.com\n",
      "  </a>\n",
      "  .\n",
      "  <p>\n",
      "   This is a new paragraph!\n",
      "   <p>\n",
      "    <b color=\"red\">\n",
      "     This is a new paragraph!\n",
      "    </b>\n",
      "    <br/>\n",
      "    <b>\n",
      "     <i>\n",
      "      This is a new sentence without a paragraph break, in bold italics.\n",
      "     </i>\n",
      "    </b>\n",
      "    <hr/>\n",
      "   </p>\n",
      "  </p>\n",
      " </body>\n",
      "</html>\n",
      "\n"
     ]
    }
   ],
   "source": [
    "print(doc.prettify())"
   ]
  },
  {
   "cell_type": "code",
   "execution_count": 10,
   "id": "c2d2b1d1",
   "metadata": {},
   "outputs": [
    {
     "name": "stdout",
     "output_type": "stream",
     "text": [
      "Hello\n"
     ]
    }
   ],
   "source": [
    "tag = doc.title\n",
    "tag.string = 'Hello'\n",
    "print(tag.string)"
   ]
  },
  {
   "cell_type": "code",
   "execution_count": null,
   "id": "90be0ef7",
   "metadata": {},
   "outputs": [
    {
     "name": "stdout",
     "output_type": "stream",
     "text": [
      "[<p> This is a new paragraph!\n",
      "\n",
      "<p> <b color=\"red\">This is a new paragraph!</b>\n",
      "<br/> <b><i>This is a new sentence without a paragraph break, in bold italics.</i></b>\n",
      "<hr/>\n",
      "</p></p>, <p> <b color=\"red\">This is a new paragraph!</b>\n",
      "<br/> <b><i>This is a new sentence without a paragraph break, in bold italics.</i></b>\n",
      "<hr/>\n",
      "</p>]\n"
     ]
    }
   ],
   "source": [
    "tags = doc.find_all(\"p\")\n",
    "print(tags)"
   ]
  },
  {
   "cell_type": "code",
   "execution_count": 21,
   "id": "8e62c7f3",
   "metadata": {},
   "outputs": [
    {
     "name": "stdout",
     "output_type": "stream",
     "text": [
      " This is a new paragraph!\n",
      "\n",
      " This is a new paragraph!\n",
      " This is a new sentence without a paragraph break, in bold italics.\n",
      "\n",
      "\n",
      " This is a new paragraph!\n",
      " This is a new sentence without a paragraph break, in bold italics.\n",
      "\n",
      "\n"
     ]
    }
   ],
   "source": [
    "for tag in tags:\n",
    "    print(tag.get_text())"
   ]
  }
 ],
 "metadata": {
  "kernelspec": {
   "display_name": "base",
   "language": "python",
   "name": "python3"
  },
  "language_info": {
   "codemirror_mode": {
    "name": "ipython",
    "version": 3
   },
   "file_extension": ".py",
   "mimetype": "text/x-python",
   "name": "python",
   "nbconvert_exporter": "python",
   "pygments_lexer": "ipython3",
   "version": "3.13.5"
  }
 },
 "nbformat": 4,
 "nbformat_minor": 5
}
